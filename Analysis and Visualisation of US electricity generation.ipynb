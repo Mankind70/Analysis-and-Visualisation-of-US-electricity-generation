{
 "cells": [
  {
   "cell_type": "markdown",
   "id": "27635a9d",
   "metadata": {},
   "source": [
    "## Import Library"
   ]
  },
  {
   "cell_type": "code",
   "execution_count": 42,
   "id": "2d826cb7",
   "metadata": {},
   "outputs": [],
   "source": [
    "import numpy as np\n",
    "import matplotlib.pyplot as plt\n",
    "import csv"
   ]
  },
  {
   "cell_type": "markdown",
   "id": "b5a78a32",
   "metadata": {},
   "source": [
    "## Importing the data set\n",
    "\n",
    "* Numpy is used for data analysis \n",
    "* Matplotlib is used for visualisation"
   ]
  },
  {
   "cell_type": "code",
   "execution_count": 6,
   "id": "ead79782",
   "metadata": {},
   "outputs": [],
   "source": [
    "data = []\n",
    "\n",
    "## the below is to read the data.\n",
    "\n",
    "with open(\"./raw_data.csv\", \"r\") as csvfile:\n",
    "    file_reader  = csv.reader(csvfile)\n",
    "    \n",
    "    for row in file_reader:\n",
    "        data.append(row)\n",
    "\n",
    "## the below is to change data into numpy array\n",
    "\n",
    "data = np.array(data)\n",
    "            "
   ]
  },
  {
   "cell_type": "code",
   "execution_count": 6,
   "id": "658e8350",
   "metadata": {},
   "outputs": [
    {
     "data": {
      "text/plain": [
       "array([['MSN', 'YYYYMM', 'Value', 'Column_Order', 'Description', 'Unit'],\n",
       "       ['CLETPUS', '194913', '135451.32', '1',\n",
       "        'Electricity Net Generation From Coal, All Sectors',\n",
       "        'Million Kilowatthours'],\n",
       "       ['CLETPUS', '195013', '154519.994', '1',\n",
       "        'Electricity Net Generation From Coal, All Sectors',\n",
       "        'Million Kilowatthours'],\n",
       "       ...,\n",
       "       ['ELETPUS', '202209', '350919.559', '13',\n",
       "        'Electricity Net Generation Total (including from sources not shown), All Sectors',\n",
       "        'Million Kilowatthours'],\n",
       "       ['ELETPUS', '202210', '314048.288', '13',\n",
       "        'Electricity Net Generation Total (including from sources not shown), All Sectors',\n",
       "        'Million Kilowatthours'],\n",
       "       ['ELETPUS', '202211', '323198.745', '13',\n",
       "        'Electricity Net Generation Total (including from sources not shown), All Sectors',\n",
       "        'Million Kilowatthours']], dtype='<U80')"
      ]
     },
     "execution_count": 6,
     "metadata": {},
     "output_type": "execute_result"
    }
   ],
   "source": [
    "data"
   ]
  },
  {
   "cell_type": "code",
   "execution_count": 7,
   "id": "cb90a935",
   "metadata": {},
   "outputs": [
    {
     "data": {
      "text/plain": [
       "(8737, 6)"
      ]
     },
     "execution_count": 7,
     "metadata": {},
     "output_type": "execute_result"
    }
   ],
   "source": [
    "data.shape"
   ]
  },
  {
   "cell_type": "markdown",
   "id": "9d1143d6",
   "metadata": {},
   "source": [
    "## Saving File"
   ]
  },
  {
   "cell_type": "code",
   "execution_count": 46,
   "id": "f90b2f27",
   "metadata": {},
   "outputs": [],
   "source": [
    "np.savetxt(\"energy.csv\", data, fmt=\"%s\", delimiter=\",\")"
   ]
  },
  {
   "cell_type": "markdown",
   "id": "86c7fe37",
   "metadata": {},
   "source": [
    "## Describe data"
   ]
  },
  {
   "cell_type": "code",
   "execution_count": 7,
   "id": "d744b728",
   "metadata": {},
   "outputs": [
    {
     "name": "stdout",
     "output_type": "stream",
     "text": [
      "Header:\n",
      " ['MSN' 'YYYYMM' 'Value' 'Column_Order' 'Description' 'Unit'] \n",
      "\n",
      " Values\n",
      " [['CLETPUS' '194913' '135451.32' '1'\n",
      "  'Electricity Net Generation From Coal, All Sectors'\n",
      "  'Million Kilowatthours']\n",
      " ['CLETPUS' '195013' '154519.994' '1'\n",
      "  'Electricity Net Generation From Coal, All Sectors'\n",
      "  'Million Kilowatthours']\n",
      " ['CLETPUS' '195113' '185203.657' '1'\n",
      "  'Electricity Net Generation From Coal, All Sectors'\n",
      "  'Million Kilowatthours']\n",
      " ...\n",
      " ['ELETPUS' '202209' '350919.559' '13'\n",
      "  'Electricity Net Generation Total (including from sources not shown), All Sectors'\n",
      "  'Million Kilowatthours']\n",
      " ['ELETPUS' '202210' '314048.288' '13'\n",
      "  'Electricity Net Generation Total (including from sources not shown), All Sectors'\n",
      "  'Million Kilowatthours']\n",
      " ['ELETPUS' '202211' '323198.745' '13'\n",
      "  'Electricity Net Generation Total (including from sources not shown), All Sectors'\n",
      "  'Million Kilowatthours']]\n"
     ]
    }
   ],
   "source": [
    "header = data[0,:]\n",
    "values = data[1:,:]\n",
    "\n",
    "print(\"Header:\\n\",header,\"\\n\\n Values\\n\",values)"
   ]
  },
  {
   "cell_type": "code",
   "execution_count": 8,
   "id": "780502bd",
   "metadata": {},
   "outputs": [
    {
     "data": {
      "text/plain": [
       "array(['Electricity Net Generation From Coal, All Sectors',\n",
       "       'Electricity Net Generation From Conventional Hydroelectric Power, All Sectors',\n",
       "       'Electricity Net Generation From Geothermal, All Sectors',\n",
       "       'Electricity Net Generation From Hydroelectric Pumped Storage, All Sectors',\n",
       "       'Electricity Net Generation From Natural Gas, All Sectors',\n",
       "       'Electricity Net Generation From Nuclear Electric Power, All Sectors',\n",
       "       'Electricity Net Generation From Other Gases, All Sectors',\n",
       "       'Electricity Net Generation From Petroleum, All Sectors',\n",
       "       'Electricity Net Generation From Solar, All Sectors',\n",
       "       'Electricity Net Generation From Waste, All Sectors',\n",
       "       'Electricity Net Generation From Wind, All Sectors',\n",
       "       'Electricity Net Generation From Wood, All Sectors',\n",
       "       'Electricity Net Generation Total (including from sources not shown), All Sectors'],\n",
       "      dtype='<U80')"
      ]
     },
     "execution_count": 8,
     "metadata": {},
     "output_type": "execute_result"
    }
   ],
   "source": [
    "np.unique(values[:,4])"
   ]
  },
  {
   "cell_type": "code",
   "execution_count": 9,
   "id": "90111abc",
   "metadata": {},
   "outputs": [
    {
     "data": {
      "text/plain": [
       "13"
      ]
     },
     "execution_count": 9,
     "metadata": {},
     "output_type": "execute_result"
    }
   ],
   "source": [
    "## Another method for getting the length as against using the Len function\n",
    "\n",
    "np.unique(values[:,4]).size"
   ]
  },
  {
   "cell_type": "code",
   "execution_count": 11,
   "id": "9c36bdfa",
   "metadata": {},
   "outputs": [
    {
     "name": "stdout",
     "output_type": "stream",
     "text": [
      "US generates electricity from 13 sources\n",
      "\n",
      "\n",
      "['Electricity Net Generation From Coal, All Sectors'\n",
      " 'Electricity Net Generation From Conventional Hydroelectric Power, All Sectors'\n",
      " 'Electricity Net Generation From Geothermal, All Sectors'\n",
      " 'Electricity Net Generation From Hydroelectric Pumped Storage, All Sectors'\n",
      " 'Electricity Net Generation From Natural Gas, All Sectors'\n",
      " 'Electricity Net Generation From Nuclear Electric Power, All Sectors'\n",
      " 'Electricity Net Generation From Other Gases, All Sectors'\n",
      " 'Electricity Net Generation From Petroleum, All Sectors'\n",
      " 'Electricity Net Generation From Solar, All Sectors'\n",
      " 'Electricity Net Generation From Waste, All Sectors'\n",
      " 'Electricity Net Generation From Wind, All Sectors'\n",
      " 'Electricity Net Generation From Wood, All Sectors'\n",
      " 'Electricity Net Generation Total (including from sources not shown), All Sectors']\n"
     ]
    }
   ],
   "source": [
    "num_of_sources = np.unique(values[:,4]).size\n",
    "print(\"US generates electricity from {} sources\\n\\n\".format(num_of_sources))\n",
    "print(np.unique(values[:,4]))\n"
   ]
  },
  {
   "cell_type": "markdown",
   "id": "2fecc277",
   "metadata": {},
   "source": [
    "## Extract the wind energy data"
   ]
  },
  {
   "cell_type": "code",
   "execution_count": 17,
   "id": "ea2d0d2b",
   "metadata": {},
   "outputs": [],
   "source": [
    "wind_cond = values[:,4] == \"Electricity Net Generation From Wind, All Sectors\""
   ]
  },
  {
   "cell_type": "code",
   "execution_count": 18,
   "id": "26fa4ceb",
   "metadata": {},
   "outputs": [],
   "source": [
    "wind_data = values[wind_cond]"
   ]
  },
  {
   "cell_type": "code",
   "execution_count": 19,
   "id": "db0bf036",
   "metadata": {},
   "outputs": [
    {
     "data": {
      "text/plain": [
       "(672, 6)"
      ]
     },
     "execution_count": 19,
     "metadata": {},
     "output_type": "execute_result"
    }
   ],
   "source": [
    "wind_data.shape"
   ]
  },
  {
   "cell_type": "markdown",
   "id": "0a99d96e",
   "metadata": {},
   "source": [
    "## Saving File"
   ]
  },
  {
   "cell_type": "code",
   "execution_count": 42,
   "id": "2c95d9dc",
   "metadata": {},
   "outputs": [],
   "source": [
    "np.savetxt(\"wind.csv\", wind_data, fmt=\"%s\", delimiter=\",\")"
   ]
  },
  {
   "cell_type": "markdown",
   "id": "24087da3",
   "metadata": {},
   "source": [
    "## Extract & Saving the coal energy data"
   ]
  },
  {
   "cell_type": "code",
   "execution_count": 48,
   "id": "d7baafb2",
   "metadata": {},
   "outputs": [],
   "source": [
    "coal_cond = values[:,4] ==\"Electricity Net Generation From Coal, All Sectors\""
   ]
  },
  {
   "cell_type": "code",
   "execution_count": 49,
   "id": "9412f15d",
   "metadata": {},
   "outputs": [],
   "source": [
    "coal_data = values[coal_cond]"
   ]
  },
  {
   "cell_type": "code",
   "execution_count": 50,
   "id": "0ec99376",
   "metadata": {},
   "outputs": [],
   "source": [
    "np.savetxt(\"coal.csv\", coal_data, fmt=\"%s\", delimiter=\",\")"
   ]
  },
  {
   "cell_type": "code",
   "execution_count": null,
   "id": "108158eb",
   "metadata": {},
   "outputs": [],
   "source": [
    "\n"
   ]
  },
  {
   "cell_type": "markdown",
   "id": "740e3be8",
   "metadata": {},
   "source": [
    "## Extract & All Power source data"
   ]
  },
  {
   "cell_type": "code",
   "execution_count": 54,
   "id": "8d1df30f",
   "metadata": {},
   "outputs": [],
   "source": [
    "conventional_power = values[:,4] == \"Electricity Net Generation From Conventional Hydroelectric Power, All Sectors\" "
   ]
  },
  {
   "cell_type": "code",
   "execution_count": 55,
   "id": "92ccc2e7",
   "metadata": {},
   "outputs": [],
   "source": [
    "conventional_power_data = values[conventional_power]"
   ]
  },
  {
   "cell_type": "code",
   "execution_count": 56,
   "id": "ae52f84d",
   "metadata": {},
   "outputs": [],
   "source": [
    "np.savetxt(\"conventional_power.csv\", conventional_power_data, fmt=\"%s\", delimiter=\",\")"
   ]
  },
  {
   "cell_type": "code",
   "execution_count": null,
   "id": "b4af805e",
   "metadata": {},
   "outputs": [],
   "source": []
  },
  {
   "cell_type": "code",
   "execution_count": 57,
   "id": "ce72ce0a",
   "metadata": {},
   "outputs": [],
   "source": [
    "Geothermal = values[:,4] == \"Electricity Net Generation From Geothermal, All Sectors\""
   ]
  },
  {
   "cell_type": "code",
   "execution_count": 60,
   "id": "1f29c4e9",
   "metadata": {},
   "outputs": [],
   "source": [
    "Geothermal_data = values[Geothermal]"
   ]
  },
  {
   "cell_type": "code",
   "execution_count": 61,
   "id": "e4a64517",
   "metadata": {},
   "outputs": [],
   "source": [
    "np.savetxt(\"Geothermal power.csv\", Geothermal_data, fmt=\"%s\", delimiter=\",\")"
   ]
  },
  {
   "cell_type": "code",
   "execution_count": null,
   "id": "ed81aff5",
   "metadata": {},
   "outputs": [],
   "source": []
  },
  {
   "cell_type": "code",
   "execution_count": 62,
   "id": "3f3a45a5",
   "metadata": {},
   "outputs": [],
   "source": [
    "Hydroelectric = values[:,4] == \"Electricity Net Generation From Hydroelectric Pumped Storage, All Sectors\""
   ]
  },
  {
   "cell_type": "code",
   "execution_count": 63,
   "id": "212d9048",
   "metadata": {},
   "outputs": [],
   "source": [
    "Hydroelectric_data = values[Hydroelectric]"
   ]
  },
  {
   "cell_type": "code",
   "execution_count": 64,
   "id": "9d902b70",
   "metadata": {},
   "outputs": [],
   "source": [
    "np.savetxt(\"Hydroelectric pumped storage.csv\", Hydroelectric_data, fmt=\"%s\", delimiter=\",\")"
   ]
  },
  {
   "cell_type": "code",
   "execution_count": null,
   "id": "b89b4929",
   "metadata": {},
   "outputs": [],
   "source": []
  },
  {
   "cell_type": "code",
   "execution_count": 13,
   "id": "43cbe088",
   "metadata": {},
   "outputs": [],
   "source": [
    "Naturalgas = values[:,4] == \"Electricity Net Generation From Natural Gas, All Sectors\""
   ]
  },
  {
   "cell_type": "code",
   "execution_count": 14,
   "id": "06c94714",
   "metadata": {},
   "outputs": [],
   "source": [
    "Naturalgas_data = Naturalgas"
   ]
  },
  {
   "cell_type": "code",
   "execution_count": 15,
   "id": "691e15f7",
   "metadata": {},
   "outputs": [],
   "source": [
    "np.savetxt(\"Natural_gas.csv\", Naturalgas_data, fmt=\"%s\", delimiter=\",\")"
   ]
  },
  {
   "cell_type": "code",
   "execution_count": null,
   "id": "108cd291",
   "metadata": {},
   "outputs": [],
   "source": []
  },
  {
   "cell_type": "markdown",
   "id": "651fd1be",
   "metadata": {},
   "source": [
    "## EDA - Explotatory data analysis"
   ]
  },
  {
   "cell_type": "code",
   "execution_count": 20,
   "id": "b039ffa3",
   "metadata": {},
   "outputs": [
    {
     "data": {
      "text/plain": [
       "(672, 6)"
      ]
     },
     "execution_count": 20,
     "metadata": {},
     "output_type": "execute_result"
    }
   ],
   "source": [
    "wind_data.shape"
   ]
  },
  {
   "cell_type": "code",
   "execution_count": 21,
   "id": "4b98cc1f",
   "metadata": {},
   "outputs": [
    {
     "data": {
      "text/plain": [
       "672"
      ]
     },
     "execution_count": 21,
     "metadata": {},
     "output_type": "execute_result"
    }
   ],
   "source": [
    "len(wind_data)"
   ]
  },
  {
   "cell_type": "code",
   "execution_count": 23,
   "id": "60eb8e24",
   "metadata": {},
   "outputs": [
    {
     "name": "stdout",
     "output_type": "stream",
     "text": [
      "Row:  672\n",
      "Column:  6\n"
     ]
    }
   ],
   "source": [
    "## Return the shape of my data\n",
    "\n",
    "print(\"Row: \",wind_data.shape[0])\n",
    "print(\"Column: \",wind_data.shape[1])"
   ]
  },
  {
   "cell_type": "markdown",
   "id": "afe2f221",
   "metadata": {},
   "source": [
    "## Data cleaning"
   ]
  },
  {
   "cell_type": "markdown",
   "id": "5e8b2548",
   "metadata": {},
   "source": [
    "* In the wind data, some of the columns are showing \"Not available\" </br> which means energy were not recorded for that period.</br> we need to remove those lines "
   ]
  },
  {
   "cell_type": "code",
   "execution_count": 24,
   "id": "de627f87",
   "metadata": {},
   "outputs": [
    {
     "data": {
      "text/plain": [
       "array(['Not Available', 'Not Available', 'Not Available', 'Not Available',\n",
       "       'Not Available', 'Not Available', 'Not Available', 'Not Available',\n",
       "       'Not Available', 'Not Available', 'Not Available', 'Not Available',\n",
       "       'Not Available', 'Not Available', 'Not Available', 'Not Available',\n",
       "       'Not Available', 'Not Available', 'Not Available', 'Not Available',\n",
       "       'Not Available', 'Not Available', 'Not Available', 'Not Available',\n",
       "       'Not Available', 'Not Available', 'Not Available', 'Not Available',\n",
       "       'Not Available', 'Not Available', 'Not Available', 'Not Available',\n",
       "       'Not Available', 'Not Available', 'Not Available', 'Not Available',\n",
       "       'Not Available', 'Not Available', 'Not Available', 'Not Available',\n",
       "       'Not Available', 'Not Available', 'Not Available', 'Not Available',\n",
       "       'Not Available', 'Not Available', 'Not Available', 'Not Available',\n",
       "       'Not Available', 'Not Available', 'Not Available', 'Not Available',\n",
       "       'Not Available', 'Not Available', 'Not Available', 'Not Available',\n",
       "       'Not Available', 'Not Available', 'Not Available', 'Not Available',\n",
       "       'Not Available', 'Not Available', 'Not Available', 'Not Available',\n",
       "       'Not Available', 'Not Available', 'Not Available', 'Not Available',\n",
       "       'Not Available', 'Not Available', 'Not Available', 'Not Available',\n",
       "       'Not Available', 'Not Available', 'Not Available', 'Not Available',\n",
       "       'Not Available', 'Not Available', 'Not Available', 'Not Available',\n",
       "       'Not Available', 'Not Available', 'Not Available', 'Not Available',\n",
       "       'Not Available', 'Not Available', 'Not Available', 'Not Available',\n",
       "       'Not Available', 'Not Available', 'Not Available', 'Not Available',\n",
       "       'Not Available', 'Not Available', 'Not Available', 'Not Available',\n",
       "       'Not Available', 'Not Available', 'Not Available', 'Not Available',\n",
       "       'Not Available', 'Not Available', 'Not Available', 'Not Available',\n",
       "       'Not Available', 'Not Available', 'Not Available', 'Not Available',\n",
       "       'Not Available', 'Not Available', 'Not Available', 'Not Available',\n",
       "       'Not Available', 'Not Available', 'Not Available', 'Not Available',\n",
       "       'Not Available', 'Not Available', 'Not Available', 'Not Available',\n",
       "       'Not Available', 'Not Available', 'Not Available', 'Not Available',\n",
       "       'Not Available', 'Not Available', 'Not Available', 'Not Available',\n",
       "       'Not Available', 'Not Available', 'Not Available', 'Not Available',\n",
       "       'Not Available', 'Not Available', 'Not Available', 'Not Available',\n",
       "       'Not Available', 'Not Available', 'Not Available', 'Not Available',\n",
       "       'Not Available', 'Not Available', 'Not Available', 'Not Available',\n",
       "       'Not Available', 'Not Available', 'Not Available', 'Not Available',\n",
       "       'Not Available', 'Not Available', 'Not Available', 'Not Available',\n",
       "       'Not Available', 'Not Available', '0.172', '0.018', '0.313',\n",
       "       '0.214', '0.251', '0.212', '0.097', '0.01', '0.378', '0.464',\n",
       "       '0.423', '0.117', '2.668', '0.041', '0.199', '0.184', '0.562',\n",
       "       '0.758', '0.599', '0.468', '0.266', '0.499', '0.87', '0.847',\n",
       "       '1.197', '6.49', '0.635', '1.093', '0.69', '0.581', '0.337',\n",
       "       '0.337', '0.071', '0.363', '0.832', '0.524', '0.194', '0.105',\n",
       "       '5.762', '0.155', '0.169', '0.69', '0.613', '0.74', '0.502',\n",
       "       '0.522', '0.46', '0.069', '0.227', '0.012', '0.03', '4.189',\n",
       "       '0.075', '0.004', '-0.009', '0.146', '0.328', '0.965', '1.226',\n",
       "       '0.232', '0.226', '0.062', '0.063', '0.224', '3.541', '0.642',\n",
       "       '-0.001', '0.03', '0.031', '0.016', '0.013', '-0.004', '0.022',\n",
       "       '0.005', '0.033', '0.031', '0.053', '0.871', '145.754', '223.489',\n",
       "       '255.996', '238.112', '204.252', '156.368', '142.075', '103.095',\n",
       "       '280.158', '175.613', '122.834', '64.296', '2112.043', '301.281',\n",
       "       '231.216', '245.229', '420.392', '350.327', '406.379', '119.111',\n",
       "       '70.065', '91.085', '203.189', '231.216', '119.111', '2788.6',\n",
       "       '62.125', '289.918', '207.084', '238.147', '362.397', '155.313',\n",
       "       '155.313', '227.793', '207.084', '424.523', '424.523', '196.73',\n",
       "       '2950.951', '150.001', '515.629', '328.128', '318.753', '93.751',\n",
       "       '75.001', '75.001', '140.626', '318.753', '243.752', '281.252',\n",
       "       '346.878', '2887.523', '247.393', '49.479', '519.526', '371.09',\n",
       "       '371.09', '86.588', '136.066', '74.218', '136.066', '284.502',\n",
       "       '457.677', '272.132', '3005.827', '0', '100.401', '546.629',\n",
       "       '412.761', '368.138', '368.138', '189.647', '133.868', '312.359',\n",
       "       '356.982', '490.85', '167.335', '3447.109', '5.703', '23.382',\n",
       "       '4.562', '6.843', '408.613', '498.433', '619.905', '545.767',\n",
       "       '572.856', '256.63', '125.179', '96.379', '3164.253', '147.279',\n",
       "       '111.817', '187.533', '244.4', '391.679', '375.705', '535.125',\n",
       "       '415.001', '351.425', '253.026', '98.718', '122.36', '3234.069',\n",
       "       '120.475', '108.923', '148.531', '324.018', '350.423', '517.108',\n",
       "       '509.406', '530.31', '260.204', '274.507', '72.615', '71.515',\n",
       "       '3288.035', '17.395', '8.186', '6.139', '85.951', '143.252',\n",
       "       '394.967', '547.429', '421.571', '475.803', '298.784', '181.112',\n",
       "       '445.106', '3025.696', '337.019', '308.918', '446.692', '373.317',\n",
       "       '275.548', '253.887', '456.059', '382.294', '377.415', '418.591',\n",
       "       '354.192', '504.066', '4487.998', '645.286', '705.904', '350.019',\n",
       "       '330.074', '408.095', '447.007', '379.937', '376.417', '332.42',\n",
       "       '411.419', '823.033', '383.652', '5593.261', '389.25', '431.242',\n",
       "       '532.12', '684.695', '635.029', '669.634', '634.992', '577.206',\n",
       "       '490.229', '606.829', '470.448', '615.657', '6737.331', '811.402',\n",
       "       '713.931', '852.102', '1024.417', '1077.641', '1126.316',\n",
       "       '890.455', '976.691', '735.829', '734.355', '655.947', '755.194',\n",
       "       '10354.28', '632.339', '745.375', '1036.104', '1092.766',\n",
       "       '1006.383', '1047.145', '953.396', '815.429', '895.054', '897.161',\n",
       "       '961.433', '1104.881', '11187.466', '999.445', '1021.569',\n",
       "       '1291.224', '1294.857', '1701.651', '1397.206', '1164.37',\n",
       "       '1050.719', '1089.615', '1028.873', '932.203', '1172.009',\n",
       "       '14143.741', '1131.569', '966.482', '1560.626', '1697.504',\n",
       "       '1746.43', '1796.924', '1420.942', '1138.032', '1468.347',\n",
       "       '1446.19', '1609.691', '1827.814', '17810.549', '2382.633',\n",
       "       '1921.958', '2358.632', '2471.762', '2458.683', '2051.766',\n",
       "       '1955.064', '1655.187', '1879.144', '2442.13', '2540.489',\n",
       "       '2471.69', '26589.137', '2452.315', '2519.793', '3047.092',\n",
       "       '3171.703', '2952.341', '2620.416', '2158.372', '2699.365',\n",
       "       '2866.722', '3376.54', '3095.036', '3490.232', '34449.927',\n",
       "       '4273.185', '3851.749', '4782.02', '5225.282', '5340.284',\n",
       "       '5140.376', '4008.401', '3264.406', '3111.452', '4756.401',\n",
       "       '4993.646', '6615.899', '55363.1', '5950.825', '5852.175',\n",
       "       '7099.063', '7457.696', '6261.961', '5599.422', '4954.941',\n",
       "       '5464.474', '4650.708', '6813.626', '6875.183', '6906.058',\n",
       "       '73886.132', '6854.337', '5431.858', '8589.077', '9764.456',\n",
       "       '8697.525', '8049.021', '6723.891', '6685.855', '7105.502',\n",
       "       '7943.808', '9747.619', '9059.297', '94652.246', '8550.495',\n",
       "       '10451.562', '10544.646', '12421.657', '11772.161', '10985.069',\n",
       "       '7488.629', '7473.594', '6869.029', '10525.429', '12438.553',\n",
       "       '10655.775', '120176.599', '13632.395', '11051.982', '14026.442',\n",
       "       '12709.239', '12540.523', '11972.304', '8821.542', '8468.912',\n",
       "       '8789.666', '12635.641', '11648.59', '14524.467', '140821.703',\n",
       "       '14738.504', '14075.591', '15755.653', '17476.274', '16238.702',\n",
       "       '13748.106', '11093.614', '9633.884', '11674.081', '13635.018',\n",
       "       '15803.26', '13967.059', '167839.745', '17911.214', '14008.66',\n",
       "       '17735.883', '18635.549', '15601.367', '15798.817', '12187.392',\n",
       "       '10170.521', '11519.768', '14507.931', '18866.929', '14711.249',\n",
       "       '181655.282', '15162.146', '14921.545', '15307.929', '17867.149',\n",
       "       '17151.341', '13421.266', '13675.449', '13080.028', '13971.567',\n",
       "       '16380.039', '19681.716', '20098.373', '190718.548', '18466.402',\n",
       "       '20138.228', '21939.409', '20799.303', '18847.899', '16303.441',\n",
       "       '17618.357', '13589.326', '16403.64', '20335.39', '19405.642',\n",
       "       '23145.525', '226992.562', '20798.771', '22091.109', '25730.617',\n",
       "       '25377.943', '23067.639', '20141.747', '16119.996', '13878.848',\n",
       "       '17911.775', '24368.703', '22614.867', '22200.681', '254302.695',\n",
       "       '25598.822', '23189.489', '26463.704', '26430.857', '23953.128',\n",
       "       '24702.856', '16446.574', '19846.437', '18519.671', '21193.898',\n",
       "       '22015.734', '24306.284', '272667.454', '24301.45', '22622.753',\n",
       "       '25772.678', '28915.306', '25779.387', '22445.97', '22100.722',\n",
       "       '19978.031', '24513.468', '27624.519', '25184.359', '26643.84',\n",
       "       '295882.484', '28121.411', '29110.495', '29319.783', '29752.229',\n",
       "       '28377.505', '30212.405', '22866.198', '23029.332', '23185.978',\n",
       "       '28822.663', '33129.405', '32010.645', '337938.049', '30060.471',\n",
       "       '26715.501', '39205.248', '36157.807', '33786.508', '26671.534',\n",
       "       '21715.552', '27071.122', '28997.803', '32215.111', '35751.091',\n",
       "       '39849.028', '378196.775', '38083.974', '37992.489', '43015.752',\n",
       "       '45929.799', '41645.058', '33478.679', '29269.063', '24344.581',\n",
       "       '27024.307', '32824.906', '41971.407'], dtype='<U80')"
      ]
     },
     "execution_count": 24,
     "metadata": {},
     "output_type": "execute_result"
    }
   ],
   "source": [
    "wind_data[:,2]"
   ]
  },
  {
   "cell_type": "code",
   "execution_count": 25,
   "id": "e9ce87af",
   "metadata": {},
   "outputs": [
    {
     "data": {
      "text/plain": [
       "array([ True,  True,  True,  True,  True,  True,  True,  True,  True,\n",
       "        True,  True,  True,  True,  True,  True,  True,  True,  True,\n",
       "        True,  True,  True,  True,  True,  True,  True,  True,  True,\n",
       "        True,  True,  True,  True,  True,  True,  True,  True,  True,\n",
       "        True,  True,  True,  True,  True,  True,  True,  True,  True,\n",
       "        True,  True,  True,  True,  True,  True,  True,  True,  True,\n",
       "        True,  True,  True,  True,  True,  True,  True,  True,  True,\n",
       "        True,  True,  True,  True,  True,  True,  True,  True,  True,\n",
       "        True,  True,  True,  True,  True,  True,  True,  True,  True,\n",
       "        True,  True,  True,  True,  True,  True,  True,  True,  True,\n",
       "        True,  True,  True,  True,  True,  True,  True,  True,  True,\n",
       "        True,  True,  True,  True,  True,  True,  True,  True,  True,\n",
       "        True,  True,  True,  True,  True,  True,  True,  True,  True,\n",
       "        True,  True,  True,  True,  True,  True,  True,  True,  True,\n",
       "        True,  True,  True,  True,  True,  True,  True,  True,  True,\n",
       "        True,  True,  True,  True,  True,  True,  True,  True,  True,\n",
       "        True,  True,  True,  True,  True,  True,  True,  True,  True,\n",
       "        True, False, False, False, False, False, False, False, False,\n",
       "       False, False, False, False, False, False, False, False, False,\n",
       "       False, False, False, False, False, False, False, False, False,\n",
       "       False, False, False, False, False, False, False, False, False,\n",
       "       False, False, False, False, False, False, False, False, False,\n",
       "       False, False, False, False, False, False, False, False, False,\n",
       "       False, False, False, False, False, False, False, False, False,\n",
       "       False, False, False, False, False, False, False, False, False,\n",
       "       False, False, False, False, False, False, False, False, False,\n",
       "       False, False, False, False, False, False, False, False, False,\n",
       "       False, False, False, False, False, False, False, False, False,\n",
       "       False, False, False, False, False, False, False, False, False,\n",
       "       False, False, False, False, False, False, False, False, False,\n",
       "       False, False, False, False, False, False, False, False, False,\n",
       "       False, False, False, False, False, False, False, False, False,\n",
       "       False, False, False, False, False, False, False, False, False,\n",
       "       False, False, False, False, False, False, False, False, False,\n",
       "       False, False, False, False, False, False, False, False, False,\n",
       "       False, False, False, False, False, False, False, False, False,\n",
       "       False, False, False, False, False, False, False, False, False,\n",
       "       False, False, False, False, False, False, False, False, False,\n",
       "       False, False, False, False, False, False, False, False, False,\n",
       "       False, False, False, False, False, False, False, False, False,\n",
       "       False, False, False, False, False, False, False, False, False,\n",
       "       False, False, False, False, False, False, False, False, False,\n",
       "       False, False, False, False, False, False, False, False, False,\n",
       "       False, False, False, False, False, False, False, False, False,\n",
       "       False, False, False, False, False, False, False, False, False,\n",
       "       False, False, False, False, False, False, False, False, False,\n",
       "       False, False, False, False, False, False, False, False, False,\n",
       "       False, False, False, False, False, False, False, False, False,\n",
       "       False, False, False, False, False, False, False, False, False,\n",
       "       False, False, False, False, False, False, False, False, False,\n",
       "       False, False, False, False, False, False, False, False, False,\n",
       "       False, False, False, False, False, False, False, False, False,\n",
       "       False, False, False, False, False, False, False, False, False,\n",
       "       False, False, False, False, False, False, False, False, False,\n",
       "       False, False, False, False, False, False, False, False, False,\n",
       "       False, False, False, False, False, False, False, False, False,\n",
       "       False, False, False, False, False, False, False, False, False,\n",
       "       False, False, False, False, False, False, False, False, False,\n",
       "       False, False, False, False, False, False, False, False, False,\n",
       "       False, False, False, False, False, False, False, False, False,\n",
       "       False, False, False, False, False, False, False, False, False,\n",
       "       False, False, False, False, False, False, False, False, False,\n",
       "       False, False, False, False, False, False, False, False, False,\n",
       "       False, False, False, False, False, False, False, False, False,\n",
       "       False, False, False, False, False, False, False, False, False,\n",
       "       False, False, False, False, False, False, False, False, False,\n",
       "       False, False, False, False, False, False, False, False, False,\n",
       "       False, False, False, False, False, False, False, False, False,\n",
       "       False, False, False, False, False, False, False, False, False,\n",
       "       False, False, False, False, False, False, False, False, False,\n",
       "       False, False, False, False, False, False, False, False, False,\n",
       "       False, False, False, False, False, False, False, False, False,\n",
       "       False, False, False, False, False, False, False, False, False,\n",
       "       False, False, False, False, False, False, False, False, False,\n",
       "       False, False, False, False, False, False])"
      ]
     },
     "execution_count": 25,
     "metadata": {},
     "output_type": "execute_result"
    }
   ],
   "source": [
    "wind_data[:,2] == \"Not Available\""
   ]
  },
  {
   "cell_type": "code",
   "execution_count": 26,
   "id": "2a6edac7",
   "metadata": {},
   "outputs": [
    {
     "data": {
      "text/plain": [
       "array([['WYETPUS', '194913', 'Not Available', '12',\n",
       "        'Electricity Net Generation From Wind, All Sectors',\n",
       "        'Million Kilowatthours'],\n",
       "       ['WYETPUS', '195013', 'Not Available', '12',\n",
       "        'Electricity Net Generation From Wind, All Sectors',\n",
       "        'Million Kilowatthours'],\n",
       "       ['WYETPUS', '195113', 'Not Available', '12',\n",
       "        'Electricity Net Generation From Wind, All Sectors',\n",
       "        'Million Kilowatthours'],\n",
       "       ['WYETPUS', '195213', 'Not Available', '12',\n",
       "        'Electricity Net Generation From Wind, All Sectors',\n",
       "        'Million Kilowatthours'],\n",
       "       ['WYETPUS', '195313', 'Not Available', '12',\n",
       "        'Electricity Net Generation From Wind, All Sectors',\n",
       "        'Million Kilowatthours'],\n",
       "       ['WYETPUS', '195413', 'Not Available', '12',\n",
       "        'Electricity Net Generation From Wind, All Sectors',\n",
       "        'Million Kilowatthours'],\n",
       "       ['WYETPUS', '195513', 'Not Available', '12',\n",
       "        'Electricity Net Generation From Wind, All Sectors',\n",
       "        'Million Kilowatthours'],\n",
       "       ['WYETPUS', '195613', 'Not Available', '12',\n",
       "        'Electricity Net Generation From Wind, All Sectors',\n",
       "        'Million Kilowatthours'],\n",
       "       ['WYETPUS', '195713', 'Not Available', '12',\n",
       "        'Electricity Net Generation From Wind, All Sectors',\n",
       "        'Million Kilowatthours'],\n",
       "       ['WYETPUS', '195813', 'Not Available', '12',\n",
       "        'Electricity Net Generation From Wind, All Sectors',\n",
       "        'Million Kilowatthours'],\n",
       "       ['WYETPUS', '195913', 'Not Available', '12',\n",
       "        'Electricity Net Generation From Wind, All Sectors',\n",
       "        'Million Kilowatthours'],\n",
       "       ['WYETPUS', '196013', 'Not Available', '12',\n",
       "        'Electricity Net Generation From Wind, All Sectors',\n",
       "        'Million Kilowatthours'],\n",
       "       ['WYETPUS', '196113', 'Not Available', '12',\n",
       "        'Electricity Net Generation From Wind, All Sectors',\n",
       "        'Million Kilowatthours'],\n",
       "       ['WYETPUS', '196213', 'Not Available', '12',\n",
       "        'Electricity Net Generation From Wind, All Sectors',\n",
       "        'Million Kilowatthours'],\n",
       "       ['WYETPUS', '196313', 'Not Available', '12',\n",
       "        'Electricity Net Generation From Wind, All Sectors',\n",
       "        'Million Kilowatthours'],\n",
       "       ['WYETPUS', '196413', 'Not Available', '12',\n",
       "        'Electricity Net Generation From Wind, All Sectors',\n",
       "        'Million Kilowatthours'],\n",
       "       ['WYETPUS', '196513', 'Not Available', '12',\n",
       "        'Electricity Net Generation From Wind, All Sectors',\n",
       "        'Million Kilowatthours'],\n",
       "       ['WYETPUS', '196613', 'Not Available', '12',\n",
       "        'Electricity Net Generation From Wind, All Sectors',\n",
       "        'Million Kilowatthours'],\n",
       "       ['WYETPUS', '196713', 'Not Available', '12',\n",
       "        'Electricity Net Generation From Wind, All Sectors',\n",
       "        'Million Kilowatthours'],\n",
       "       ['WYETPUS', '196813', 'Not Available', '12',\n",
       "        'Electricity Net Generation From Wind, All Sectors',\n",
       "        'Million Kilowatthours'],\n",
       "       ['WYETPUS', '196913', 'Not Available', '12',\n",
       "        'Electricity Net Generation From Wind, All Sectors',\n",
       "        'Million Kilowatthours'],\n",
       "       ['WYETPUS', '197013', 'Not Available', '12',\n",
       "        'Electricity Net Generation From Wind, All Sectors',\n",
       "        'Million Kilowatthours'],\n",
       "       ['WYETPUS', '197113', 'Not Available', '12',\n",
       "        'Electricity Net Generation From Wind, All Sectors',\n",
       "        'Million Kilowatthours'],\n",
       "       ['WYETPUS', '197213', 'Not Available', '12',\n",
       "        'Electricity Net Generation From Wind, All Sectors',\n",
       "        'Million Kilowatthours'],\n",
       "       ['WYETPUS', '197301', 'Not Available', '12',\n",
       "        'Electricity Net Generation From Wind, All Sectors',\n",
       "        'Million Kilowatthours'],\n",
       "       ['WYETPUS', '197302', 'Not Available', '12',\n",
       "        'Electricity Net Generation From Wind, All Sectors',\n",
       "        'Million Kilowatthours'],\n",
       "       ['WYETPUS', '197303', 'Not Available', '12',\n",
       "        'Electricity Net Generation From Wind, All Sectors',\n",
       "        'Million Kilowatthours'],\n",
       "       ['WYETPUS', '197304', 'Not Available', '12',\n",
       "        'Electricity Net Generation From Wind, All Sectors',\n",
       "        'Million Kilowatthours'],\n",
       "       ['WYETPUS', '197305', 'Not Available', '12',\n",
       "        'Electricity Net Generation From Wind, All Sectors',\n",
       "        'Million Kilowatthours'],\n",
       "       ['WYETPUS', '197306', 'Not Available', '12',\n",
       "        'Electricity Net Generation From Wind, All Sectors',\n",
       "        'Million Kilowatthours'],\n",
       "       ['WYETPUS', '197307', 'Not Available', '12',\n",
       "        'Electricity Net Generation From Wind, All Sectors',\n",
       "        'Million Kilowatthours'],\n",
       "       ['WYETPUS', '197308', 'Not Available', '12',\n",
       "        'Electricity Net Generation From Wind, All Sectors',\n",
       "        'Million Kilowatthours'],\n",
       "       ['WYETPUS', '197309', 'Not Available', '12',\n",
       "        'Electricity Net Generation From Wind, All Sectors',\n",
       "        'Million Kilowatthours'],\n",
       "       ['WYETPUS', '197310', 'Not Available', '12',\n",
       "        'Electricity Net Generation From Wind, All Sectors',\n",
       "        'Million Kilowatthours'],\n",
       "       ['WYETPUS', '197311', 'Not Available', '12',\n",
       "        'Electricity Net Generation From Wind, All Sectors',\n",
       "        'Million Kilowatthours'],\n",
       "       ['WYETPUS', '197312', 'Not Available', '12',\n",
       "        'Electricity Net Generation From Wind, All Sectors',\n",
       "        'Million Kilowatthours'],\n",
       "       ['WYETPUS', '197313', 'Not Available', '12',\n",
       "        'Electricity Net Generation From Wind, All Sectors',\n",
       "        'Million Kilowatthours'],\n",
       "       ['WYETPUS', '197401', 'Not Available', '12',\n",
       "        'Electricity Net Generation From Wind, All Sectors',\n",
       "        'Million Kilowatthours'],\n",
       "       ['WYETPUS', '197402', 'Not Available', '12',\n",
       "        'Electricity Net Generation From Wind, All Sectors',\n",
       "        'Million Kilowatthours'],\n",
       "       ['WYETPUS', '197403', 'Not Available', '12',\n",
       "        'Electricity Net Generation From Wind, All Sectors',\n",
       "        'Million Kilowatthours'],\n",
       "       ['WYETPUS', '197404', 'Not Available', '12',\n",
       "        'Electricity Net Generation From Wind, All Sectors',\n",
       "        'Million Kilowatthours'],\n",
       "       ['WYETPUS', '197405', 'Not Available', '12',\n",
       "        'Electricity Net Generation From Wind, All Sectors',\n",
       "        'Million Kilowatthours'],\n",
       "       ['WYETPUS', '197406', 'Not Available', '12',\n",
       "        'Electricity Net Generation From Wind, All Sectors',\n",
       "        'Million Kilowatthours'],\n",
       "       ['WYETPUS', '197407', 'Not Available', '12',\n",
       "        'Electricity Net Generation From Wind, All Sectors',\n",
       "        'Million Kilowatthours'],\n",
       "       ['WYETPUS', '197408', 'Not Available', '12',\n",
       "        'Electricity Net Generation From Wind, All Sectors',\n",
       "        'Million Kilowatthours'],\n",
       "       ['WYETPUS', '197409', 'Not Available', '12',\n",
       "        'Electricity Net Generation From Wind, All Sectors',\n",
       "        'Million Kilowatthours'],\n",
       "       ['WYETPUS', '197410', 'Not Available', '12',\n",
       "        'Electricity Net Generation From Wind, All Sectors',\n",
       "        'Million Kilowatthours'],\n",
       "       ['WYETPUS', '197411', 'Not Available', '12',\n",
       "        'Electricity Net Generation From Wind, All Sectors',\n",
       "        'Million Kilowatthours'],\n",
       "       ['WYETPUS', '197412', 'Not Available', '12',\n",
       "        'Electricity Net Generation From Wind, All Sectors',\n",
       "        'Million Kilowatthours'],\n",
       "       ['WYETPUS', '197413', 'Not Available', '12',\n",
       "        'Electricity Net Generation From Wind, All Sectors',\n",
       "        'Million Kilowatthours'],\n",
       "       ['WYETPUS', '197501', 'Not Available', '12',\n",
       "        'Electricity Net Generation From Wind, All Sectors',\n",
       "        'Million Kilowatthours'],\n",
       "       ['WYETPUS', '197502', 'Not Available', '12',\n",
       "        'Electricity Net Generation From Wind, All Sectors',\n",
       "        'Million Kilowatthours'],\n",
       "       ['WYETPUS', '197503', 'Not Available', '12',\n",
       "        'Electricity Net Generation From Wind, All Sectors',\n",
       "        'Million Kilowatthours'],\n",
       "       ['WYETPUS', '197504', 'Not Available', '12',\n",
       "        'Electricity Net Generation From Wind, All Sectors',\n",
       "        'Million Kilowatthours'],\n",
       "       ['WYETPUS', '197505', 'Not Available', '12',\n",
       "        'Electricity Net Generation From Wind, All Sectors',\n",
       "        'Million Kilowatthours'],\n",
       "       ['WYETPUS', '197506', 'Not Available', '12',\n",
       "        'Electricity Net Generation From Wind, All Sectors',\n",
       "        'Million Kilowatthours'],\n",
       "       ['WYETPUS', '197507', 'Not Available', '12',\n",
       "        'Electricity Net Generation From Wind, All Sectors',\n",
       "        'Million Kilowatthours'],\n",
       "       ['WYETPUS', '197508', 'Not Available', '12',\n",
       "        'Electricity Net Generation From Wind, All Sectors',\n",
       "        'Million Kilowatthours'],\n",
       "       ['WYETPUS', '197509', 'Not Available', '12',\n",
       "        'Electricity Net Generation From Wind, All Sectors',\n",
       "        'Million Kilowatthours'],\n",
       "       ['WYETPUS', '197510', 'Not Available', '12',\n",
       "        'Electricity Net Generation From Wind, All Sectors',\n",
       "        'Million Kilowatthours'],\n",
       "       ['WYETPUS', '197511', 'Not Available', '12',\n",
       "        'Electricity Net Generation From Wind, All Sectors',\n",
       "        'Million Kilowatthours'],\n",
       "       ['WYETPUS', '197512', 'Not Available', '12',\n",
       "        'Electricity Net Generation From Wind, All Sectors',\n",
       "        'Million Kilowatthours'],\n",
       "       ['WYETPUS', '197513', 'Not Available', '12',\n",
       "        'Electricity Net Generation From Wind, All Sectors',\n",
       "        'Million Kilowatthours'],\n",
       "       ['WYETPUS', '197601', 'Not Available', '12',\n",
       "        'Electricity Net Generation From Wind, All Sectors',\n",
       "        'Million Kilowatthours'],\n",
       "       ['WYETPUS', '197602', 'Not Available', '12',\n",
       "        'Electricity Net Generation From Wind, All Sectors',\n",
       "        'Million Kilowatthours'],\n",
       "       ['WYETPUS', '197603', 'Not Available', '12',\n",
       "        'Electricity Net Generation From Wind, All Sectors',\n",
       "        'Million Kilowatthours'],\n",
       "       ['WYETPUS', '197604', 'Not Available', '12',\n",
       "        'Electricity Net Generation From Wind, All Sectors',\n",
       "        'Million Kilowatthours'],\n",
       "       ['WYETPUS', '197605', 'Not Available', '12',\n",
       "        'Electricity Net Generation From Wind, All Sectors',\n",
       "        'Million Kilowatthours'],\n",
       "       ['WYETPUS', '197606', 'Not Available', '12',\n",
       "        'Electricity Net Generation From Wind, All Sectors',\n",
       "        'Million Kilowatthours'],\n",
       "       ['WYETPUS', '197607', 'Not Available', '12',\n",
       "        'Electricity Net Generation From Wind, All Sectors',\n",
       "        'Million Kilowatthours'],\n",
       "       ['WYETPUS', '197608', 'Not Available', '12',\n",
       "        'Electricity Net Generation From Wind, All Sectors',\n",
       "        'Million Kilowatthours'],\n",
       "       ['WYETPUS', '197609', 'Not Available', '12',\n",
       "        'Electricity Net Generation From Wind, All Sectors',\n",
       "        'Million Kilowatthours'],\n",
       "       ['WYETPUS', '197610', 'Not Available', '12',\n",
       "        'Electricity Net Generation From Wind, All Sectors',\n",
       "        'Million Kilowatthours'],\n",
       "       ['WYETPUS', '197611', 'Not Available', '12',\n",
       "        'Electricity Net Generation From Wind, All Sectors',\n",
       "        'Million Kilowatthours'],\n",
       "       ['WYETPUS', '197612', 'Not Available', '12',\n",
       "        'Electricity Net Generation From Wind, All Sectors',\n",
       "        'Million Kilowatthours'],\n",
       "       ['WYETPUS', '197613', 'Not Available', '12',\n",
       "        'Electricity Net Generation From Wind, All Sectors',\n",
       "        'Million Kilowatthours'],\n",
       "       ['WYETPUS', '197701', 'Not Available', '12',\n",
       "        'Electricity Net Generation From Wind, All Sectors',\n",
       "        'Million Kilowatthours'],\n",
       "       ['WYETPUS', '197702', 'Not Available', '12',\n",
       "        'Electricity Net Generation From Wind, All Sectors',\n",
       "        'Million Kilowatthours'],\n",
       "       ['WYETPUS', '197703', 'Not Available', '12',\n",
       "        'Electricity Net Generation From Wind, All Sectors',\n",
       "        'Million Kilowatthours'],\n",
       "       ['WYETPUS', '197704', 'Not Available', '12',\n",
       "        'Electricity Net Generation From Wind, All Sectors',\n",
       "        'Million Kilowatthours'],\n",
       "       ['WYETPUS', '197705', 'Not Available', '12',\n",
       "        'Electricity Net Generation From Wind, All Sectors',\n",
       "        'Million Kilowatthours'],\n",
       "       ['WYETPUS', '197706', 'Not Available', '12',\n",
       "        'Electricity Net Generation From Wind, All Sectors',\n",
       "        'Million Kilowatthours'],\n",
       "       ['WYETPUS', '197707', 'Not Available', '12',\n",
       "        'Electricity Net Generation From Wind, All Sectors',\n",
       "        'Million Kilowatthours'],\n",
       "       ['WYETPUS', '197708', 'Not Available', '12',\n",
       "        'Electricity Net Generation From Wind, All Sectors',\n",
       "        'Million Kilowatthours'],\n",
       "       ['WYETPUS', '197709', 'Not Available', '12',\n",
       "        'Electricity Net Generation From Wind, All Sectors',\n",
       "        'Million Kilowatthours'],\n",
       "       ['WYETPUS', '197710', 'Not Available', '12',\n",
       "        'Electricity Net Generation From Wind, All Sectors',\n",
       "        'Million Kilowatthours'],\n",
       "       ['WYETPUS', '197711', 'Not Available', '12',\n",
       "        'Electricity Net Generation From Wind, All Sectors',\n",
       "        'Million Kilowatthours'],\n",
       "       ['WYETPUS', '197712', 'Not Available', '12',\n",
       "        'Electricity Net Generation From Wind, All Sectors',\n",
       "        'Million Kilowatthours'],\n",
       "       ['WYETPUS', '197713', 'Not Available', '12',\n",
       "        'Electricity Net Generation From Wind, All Sectors',\n",
       "        'Million Kilowatthours'],\n",
       "       ['WYETPUS', '197801', 'Not Available', '12',\n",
       "        'Electricity Net Generation From Wind, All Sectors',\n",
       "        'Million Kilowatthours'],\n",
       "       ['WYETPUS', '197802', 'Not Available', '12',\n",
       "        'Electricity Net Generation From Wind, All Sectors',\n",
       "        'Million Kilowatthours'],\n",
       "       ['WYETPUS', '197803', 'Not Available', '12',\n",
       "        'Electricity Net Generation From Wind, All Sectors',\n",
       "        'Million Kilowatthours'],\n",
       "       ['WYETPUS', '197804', 'Not Available', '12',\n",
       "        'Electricity Net Generation From Wind, All Sectors',\n",
       "        'Million Kilowatthours'],\n",
       "       ['WYETPUS', '197805', 'Not Available', '12',\n",
       "        'Electricity Net Generation From Wind, All Sectors',\n",
       "        'Million Kilowatthours'],\n",
       "       ['WYETPUS', '197806', 'Not Available', '12',\n",
       "        'Electricity Net Generation From Wind, All Sectors',\n",
       "        'Million Kilowatthours'],\n",
       "       ['WYETPUS', '197807', 'Not Available', '12',\n",
       "        'Electricity Net Generation From Wind, All Sectors',\n",
       "        'Million Kilowatthours'],\n",
       "       ['WYETPUS', '197808', 'Not Available', '12',\n",
       "        'Electricity Net Generation From Wind, All Sectors',\n",
       "        'Million Kilowatthours'],\n",
       "       ['WYETPUS', '197809', 'Not Available', '12',\n",
       "        'Electricity Net Generation From Wind, All Sectors',\n",
       "        'Million Kilowatthours'],\n",
       "       ['WYETPUS', '197810', 'Not Available', '12',\n",
       "        'Electricity Net Generation From Wind, All Sectors',\n",
       "        'Million Kilowatthours'],\n",
       "       ['WYETPUS', '197811', 'Not Available', '12',\n",
       "        'Electricity Net Generation From Wind, All Sectors',\n",
       "        'Million Kilowatthours'],\n",
       "       ['WYETPUS', '197812', 'Not Available', '12',\n",
       "        'Electricity Net Generation From Wind, All Sectors',\n",
       "        'Million Kilowatthours'],\n",
       "       ['WYETPUS', '197813', 'Not Available', '12',\n",
       "        'Electricity Net Generation From Wind, All Sectors',\n",
       "        'Million Kilowatthours'],\n",
       "       ['WYETPUS', '197901', 'Not Available', '12',\n",
       "        'Electricity Net Generation From Wind, All Sectors',\n",
       "        'Million Kilowatthours'],\n",
       "       ['WYETPUS', '197902', 'Not Available', '12',\n",
       "        'Electricity Net Generation From Wind, All Sectors',\n",
       "        'Million Kilowatthours'],\n",
       "       ['WYETPUS', '197903', 'Not Available', '12',\n",
       "        'Electricity Net Generation From Wind, All Sectors',\n",
       "        'Million Kilowatthours'],\n",
       "       ['WYETPUS', '197904', 'Not Available', '12',\n",
       "        'Electricity Net Generation From Wind, All Sectors',\n",
       "        'Million Kilowatthours'],\n",
       "       ['WYETPUS', '197905', 'Not Available', '12',\n",
       "        'Electricity Net Generation From Wind, All Sectors',\n",
       "        'Million Kilowatthours'],\n",
       "       ['WYETPUS', '197906', 'Not Available', '12',\n",
       "        'Electricity Net Generation From Wind, All Sectors',\n",
       "        'Million Kilowatthours'],\n",
       "       ['WYETPUS', '197907', 'Not Available', '12',\n",
       "        'Electricity Net Generation From Wind, All Sectors',\n",
       "        'Million Kilowatthours'],\n",
       "       ['WYETPUS', '197908', 'Not Available', '12',\n",
       "        'Electricity Net Generation From Wind, All Sectors',\n",
       "        'Million Kilowatthours'],\n",
       "       ['WYETPUS', '197909', 'Not Available', '12',\n",
       "        'Electricity Net Generation From Wind, All Sectors',\n",
       "        'Million Kilowatthours'],\n",
       "       ['WYETPUS', '197910', 'Not Available', '12',\n",
       "        'Electricity Net Generation From Wind, All Sectors',\n",
       "        'Million Kilowatthours'],\n",
       "       ['WYETPUS', '197911', 'Not Available', '12',\n",
       "        'Electricity Net Generation From Wind, All Sectors',\n",
       "        'Million Kilowatthours'],\n",
       "       ['WYETPUS', '197912', 'Not Available', '12',\n",
       "        'Electricity Net Generation From Wind, All Sectors',\n",
       "        'Million Kilowatthours'],\n",
       "       ['WYETPUS', '197913', 'Not Available', '12',\n",
       "        'Electricity Net Generation From Wind, All Sectors',\n",
       "        'Million Kilowatthours'],\n",
       "       ['WYETPUS', '198001', 'Not Available', '12',\n",
       "        'Electricity Net Generation From Wind, All Sectors',\n",
       "        'Million Kilowatthours'],\n",
       "       ['WYETPUS', '198002', 'Not Available', '12',\n",
       "        'Electricity Net Generation From Wind, All Sectors',\n",
       "        'Million Kilowatthours'],\n",
       "       ['WYETPUS', '198003', 'Not Available', '12',\n",
       "        'Electricity Net Generation From Wind, All Sectors',\n",
       "        'Million Kilowatthours'],\n",
       "       ['WYETPUS', '198004', 'Not Available', '12',\n",
       "        'Electricity Net Generation From Wind, All Sectors',\n",
       "        'Million Kilowatthours'],\n",
       "       ['WYETPUS', '198005', 'Not Available', '12',\n",
       "        'Electricity Net Generation From Wind, All Sectors',\n",
       "        'Million Kilowatthours'],\n",
       "       ['WYETPUS', '198006', 'Not Available', '12',\n",
       "        'Electricity Net Generation From Wind, All Sectors',\n",
       "        'Million Kilowatthours'],\n",
       "       ['WYETPUS', '198007', 'Not Available', '12',\n",
       "        'Electricity Net Generation From Wind, All Sectors',\n",
       "        'Million Kilowatthours'],\n",
       "       ['WYETPUS', '198008', 'Not Available', '12',\n",
       "        'Electricity Net Generation From Wind, All Sectors',\n",
       "        'Million Kilowatthours'],\n",
       "       ['WYETPUS', '198009', 'Not Available', '12',\n",
       "        'Electricity Net Generation From Wind, All Sectors',\n",
       "        'Million Kilowatthours'],\n",
       "       ['WYETPUS', '198010', 'Not Available', '12',\n",
       "        'Electricity Net Generation From Wind, All Sectors',\n",
       "        'Million Kilowatthours'],\n",
       "       ['WYETPUS', '198011', 'Not Available', '12',\n",
       "        'Electricity Net Generation From Wind, All Sectors',\n",
       "        'Million Kilowatthours'],\n",
       "       ['WYETPUS', '198012', 'Not Available', '12',\n",
       "        'Electricity Net Generation From Wind, All Sectors',\n",
       "        'Million Kilowatthours'],\n",
       "       ['WYETPUS', '198013', 'Not Available', '12',\n",
       "        'Electricity Net Generation From Wind, All Sectors',\n",
       "        'Million Kilowatthours'],\n",
       "       ['WYETPUS', '198101', 'Not Available', '12',\n",
       "        'Electricity Net Generation From Wind, All Sectors',\n",
       "        'Million Kilowatthours'],\n",
       "       ['WYETPUS', '198102', 'Not Available', '12',\n",
       "        'Electricity Net Generation From Wind, All Sectors',\n",
       "        'Million Kilowatthours'],\n",
       "       ['WYETPUS', '198103', 'Not Available', '12',\n",
       "        'Electricity Net Generation From Wind, All Sectors',\n",
       "        'Million Kilowatthours'],\n",
       "       ['WYETPUS', '198104', 'Not Available', '12',\n",
       "        'Electricity Net Generation From Wind, All Sectors',\n",
       "        'Million Kilowatthours'],\n",
       "       ['WYETPUS', '198105', 'Not Available', '12',\n",
       "        'Electricity Net Generation From Wind, All Sectors',\n",
       "        'Million Kilowatthours'],\n",
       "       ['WYETPUS', '198106', 'Not Available', '12',\n",
       "        'Electricity Net Generation From Wind, All Sectors',\n",
       "        'Million Kilowatthours'],\n",
       "       ['WYETPUS', '198107', 'Not Available', '12',\n",
       "        'Electricity Net Generation From Wind, All Sectors',\n",
       "        'Million Kilowatthours'],\n",
       "       ['WYETPUS', '198108', 'Not Available', '12',\n",
       "        'Electricity Net Generation From Wind, All Sectors',\n",
       "        'Million Kilowatthours'],\n",
       "       ['WYETPUS', '198109', 'Not Available', '12',\n",
       "        'Electricity Net Generation From Wind, All Sectors',\n",
       "        'Million Kilowatthours'],\n",
       "       ['WYETPUS', '198110', 'Not Available', '12',\n",
       "        'Electricity Net Generation From Wind, All Sectors',\n",
       "        'Million Kilowatthours'],\n",
       "       ['WYETPUS', '198111', 'Not Available', '12',\n",
       "        'Electricity Net Generation From Wind, All Sectors',\n",
       "        'Million Kilowatthours'],\n",
       "       ['WYETPUS', '198112', 'Not Available', '12',\n",
       "        'Electricity Net Generation From Wind, All Sectors',\n",
       "        'Million Kilowatthours'],\n",
       "       ['WYETPUS', '198113', 'Not Available', '12',\n",
       "        'Electricity Net Generation From Wind, All Sectors',\n",
       "        'Million Kilowatthours'],\n",
       "       ['WYETPUS', '198201', 'Not Available', '12',\n",
       "        'Electricity Net Generation From Wind, All Sectors',\n",
       "        'Million Kilowatthours'],\n",
       "       ['WYETPUS', '198202', 'Not Available', '12',\n",
       "        'Electricity Net Generation From Wind, All Sectors',\n",
       "        'Million Kilowatthours'],\n",
       "       ['WYETPUS', '198203', 'Not Available', '12',\n",
       "        'Electricity Net Generation From Wind, All Sectors',\n",
       "        'Million Kilowatthours'],\n",
       "       ['WYETPUS', '198204', 'Not Available', '12',\n",
       "        'Electricity Net Generation From Wind, All Sectors',\n",
       "        'Million Kilowatthours'],\n",
       "       ['WYETPUS', '198205', 'Not Available', '12',\n",
       "        'Electricity Net Generation From Wind, All Sectors',\n",
       "        'Million Kilowatthours'],\n",
       "       ['WYETPUS', '198206', 'Not Available', '12',\n",
       "        'Electricity Net Generation From Wind, All Sectors',\n",
       "        'Million Kilowatthours'],\n",
       "       ['WYETPUS', '198207', 'Not Available', '12',\n",
       "        'Electricity Net Generation From Wind, All Sectors',\n",
       "        'Million Kilowatthours'],\n",
       "       ['WYETPUS', '198208', 'Not Available', '12',\n",
       "        'Electricity Net Generation From Wind, All Sectors',\n",
       "        'Million Kilowatthours'],\n",
       "       ['WYETPUS', '198209', 'Not Available', '12',\n",
       "        'Electricity Net Generation From Wind, All Sectors',\n",
       "        'Million Kilowatthours'],\n",
       "       ['WYETPUS', '198210', 'Not Available', '12',\n",
       "        'Electricity Net Generation From Wind, All Sectors',\n",
       "        'Million Kilowatthours'],\n",
       "       ['WYETPUS', '198211', 'Not Available', '12',\n",
       "        'Electricity Net Generation From Wind, All Sectors',\n",
       "        'Million Kilowatthours'],\n",
       "       ['WYETPUS', '198212', 'Not Available', '12',\n",
       "        'Electricity Net Generation From Wind, All Sectors',\n",
       "        'Million Kilowatthours'],\n",
       "       ['WYETPUS', '198213', 'Not Available', '12',\n",
       "        'Electricity Net Generation From Wind, All Sectors',\n",
       "        'Million Kilowatthours']], dtype='<U80')"
      ]
     },
     "execution_count": 26,
     "metadata": {},
     "output_type": "execute_result"
    }
   ],
   "source": [
    "# this is showing all the \"not available data\"\n",
    "\n",
    "available_mask = wind_data[:,2] == \"Not Available\"\n",
    "wind_data[available_mask]"
   ]
  },
  {
   "cell_type": "code",
   "execution_count": 27,
   "id": "d7b0780e",
   "metadata": {},
   "outputs": [
    {
     "data": {
      "text/plain": [
       "array([['WYETPUS', '198301', '0.172', '12',\n",
       "        'Electricity Net Generation From Wind, All Sectors',\n",
       "        'Million Kilowatthours'],\n",
       "       ['WYETPUS', '198302', '0.018', '12',\n",
       "        'Electricity Net Generation From Wind, All Sectors',\n",
       "        'Million Kilowatthours'],\n",
       "       ['WYETPUS', '198303', '0.313', '12',\n",
       "        'Electricity Net Generation From Wind, All Sectors',\n",
       "        'Million Kilowatthours'],\n",
       "       ...,\n",
       "       ['WYETPUS', '202209', '27024.307', '12',\n",
       "        'Electricity Net Generation From Wind, All Sectors',\n",
       "        'Million Kilowatthours'],\n",
       "       ['WYETPUS', '202210', '32824.906', '12',\n",
       "        'Electricity Net Generation From Wind, All Sectors',\n",
       "        'Million Kilowatthours'],\n",
       "       ['WYETPUS', '202211', '41971.407', '12',\n",
       "        'Electricity Net Generation From Wind, All Sectors',\n",
       "        'Million Kilowatthours']], dtype='<U80')"
      ]
     },
     "execution_count": 27,
     "metadata": {},
     "output_type": "execute_result"
    }
   ],
   "source": [
    "## this is show the data that are actually available which is the clean data\n",
    "\n",
    "available_mask = wind_data[:,2] != \"Not Available\"\n",
    "wind_data[available_mask]"
   ]
  },
  {
   "cell_type": "code",
   "execution_count": 28,
   "id": "1f70a5d9",
   "metadata": {},
   "outputs": [],
   "source": [
    "available_mask = wind_data[:,2] != \"Not Available\"\n",
    "wind_data = wind_data[available_mask]"
   ]
  },
  {
   "cell_type": "code",
   "execution_count": 29,
   "id": "3dadbbc5",
   "metadata": {},
   "outputs": [
    {
     "data": {
      "text/plain": [
       "array([['WYETPUS', '198301', '0.172', '12',\n",
       "        'Electricity Net Generation From Wind, All Sectors',\n",
       "        'Million Kilowatthours'],\n",
       "       ['WYETPUS', '198302', '0.018', '12',\n",
       "        'Electricity Net Generation From Wind, All Sectors',\n",
       "        'Million Kilowatthours'],\n",
       "       ['WYETPUS', '198303', '0.313', '12',\n",
       "        'Electricity Net Generation From Wind, All Sectors',\n",
       "        'Million Kilowatthours'],\n",
       "       ...,\n",
       "       ['WYETPUS', '202209', '27024.307', '12',\n",
       "        'Electricity Net Generation From Wind, All Sectors',\n",
       "        'Million Kilowatthours'],\n",
       "       ['WYETPUS', '202210', '32824.906', '12',\n",
       "        'Electricity Net Generation From Wind, All Sectors',\n",
       "        'Million Kilowatthours'],\n",
       "       ['WYETPUS', '202211', '41971.407', '12',\n",
       "        'Electricity Net Generation From Wind, All Sectors',\n",
       "        'Million Kilowatthours']], dtype='<U80')"
      ]
     },
     "execution_count": 29,
     "metadata": {},
     "output_type": "execute_result"
    }
   ],
   "source": [
    "wind_data"
   ]
  },
  {
   "cell_type": "code",
   "execution_count": 30,
   "id": "c52cf206",
   "metadata": {},
   "outputs": [],
   "source": [
    "np.savetxt(\"Clean_wind_data.csv\", wind_data, fmt=\"%s\", delimiter=\",\")"
   ]
  },
  {
   "cell_type": "markdown",
   "id": "30ace93e",
   "metadata": {},
   "source": [
    "## Analysis\n",
    "\n",
    "* Total energy generated"
   ]
  },
  {
   "cell_type": "code",
   "execution_count": 46,
   "id": "2344324d",
   "metadata": {},
   "outputs": [
    {
     "name": "stdout",
     "output_type": "stream",
     "text": [
      "198313\n",
      "198413\n",
      "198513\n",
      "198613\n",
      "198713\n",
      "198813\n",
      "198913\n",
      "199013\n",
      "199113\n",
      "199213\n",
      "199313\n",
      "199413\n",
      "199513\n",
      "199613\n",
      "199713\n",
      "199813\n",
      "199913\n",
      "200013\n",
      "200113\n",
      "200213\n",
      "200313\n",
      "200413\n",
      "200513\n",
      "200613\n",
      "200713\n",
      "200813\n",
      "200913\n",
      "201013\n",
      "201113\n",
      "201213\n",
      "201313\n",
      "201413\n",
      "201513\n",
      "201613\n",
      "201713\n",
      "201813\n",
      "201913\n",
      "202013\n",
      "202113\n"
     ]
    }
   ],
   "source": [
    "for x in wind_data[:,1]:\n",
    "    if x[-2:] ==\"13\" :\n",
    "        print(x)"
   ]
  },
  {
   "cell_type": "code",
   "execution_count": 57,
   "id": "bbb6e8a8",
   "metadata": {},
   "outputs": [],
   "source": [
    "annual_mask = np.array([x[-2:] == \"13\" for x in wind_data[:,1]])"
   ]
  },
  {
   "cell_type": "code",
   "execution_count": 59,
   "id": "a748c96a",
   "metadata": {},
   "outputs": [],
   "source": [
    "annual_wind_data = wind_data[annual_mask]"
   ]
  },
  {
   "cell_type": "code",
   "execution_count": 67,
   "id": "ebbd7564",
   "metadata": {},
   "outputs": [
    {
     "data": {
      "text/plain": [
       "array([['WYETPUS', '198313', '2.668', '12',\n",
       "        'Electricity Net Generation From Wind, All Sectors',\n",
       "        'Million Kilowatthours'],\n",
       "       ['WYETPUS', '198413', '6.49', '12',\n",
       "        'Electricity Net Generation From Wind, All Sectors',\n",
       "        'Million Kilowatthours'],\n",
       "       ['WYETPUS', '198513', '5.762', '12',\n",
       "        'Electricity Net Generation From Wind, All Sectors',\n",
       "        'Million Kilowatthours'],\n",
       "       ['WYETPUS', '198613', '4.189', '12',\n",
       "        'Electricity Net Generation From Wind, All Sectors',\n",
       "        'Million Kilowatthours'],\n",
       "       ['WYETPUS', '198713', '3.541', '12',\n",
       "        'Electricity Net Generation From Wind, All Sectors',\n",
       "        'Million Kilowatthours'],\n",
       "       ['WYETPUS', '198813', '0.871', '12',\n",
       "        'Electricity Net Generation From Wind, All Sectors',\n",
       "        'Million Kilowatthours'],\n",
       "       ['WYETPUS', '198913', '2112.043', '12',\n",
       "        'Electricity Net Generation From Wind, All Sectors',\n",
       "        'Million Kilowatthours'],\n",
       "       ['WYETPUS', '199013', '2788.6', '12',\n",
       "        'Electricity Net Generation From Wind, All Sectors',\n",
       "        'Million Kilowatthours'],\n",
       "       ['WYETPUS', '199113', '2950.951', '12',\n",
       "        'Electricity Net Generation From Wind, All Sectors',\n",
       "        'Million Kilowatthours'],\n",
       "       ['WYETPUS', '199213', '2887.523', '12',\n",
       "        'Electricity Net Generation From Wind, All Sectors',\n",
       "        'Million Kilowatthours'],\n",
       "       ['WYETPUS', '199313', '3005.827', '12',\n",
       "        'Electricity Net Generation From Wind, All Sectors',\n",
       "        'Million Kilowatthours'],\n",
       "       ['WYETPUS', '199413', '3447.109', '12',\n",
       "        'Electricity Net Generation From Wind, All Sectors',\n",
       "        'Million Kilowatthours'],\n",
       "       ['WYETPUS', '199513', '3164.253', '12',\n",
       "        'Electricity Net Generation From Wind, All Sectors',\n",
       "        'Million Kilowatthours'],\n",
       "       ['WYETPUS', '199613', '3234.069', '12',\n",
       "        'Electricity Net Generation From Wind, All Sectors',\n",
       "        'Million Kilowatthours'],\n",
       "       ['WYETPUS', '199713', '3288.035', '12',\n",
       "        'Electricity Net Generation From Wind, All Sectors',\n",
       "        'Million Kilowatthours'],\n",
       "       ['WYETPUS', '199813', '3025.696', '12',\n",
       "        'Electricity Net Generation From Wind, All Sectors',\n",
       "        'Million Kilowatthours'],\n",
       "       ['WYETPUS', '199913', '4487.998', '12',\n",
       "        'Electricity Net Generation From Wind, All Sectors',\n",
       "        'Million Kilowatthours'],\n",
       "       ['WYETPUS', '200013', '5593.261', '12',\n",
       "        'Electricity Net Generation From Wind, All Sectors',\n",
       "        'Million Kilowatthours'],\n",
       "       ['WYETPUS', '200113', '6737.331', '12',\n",
       "        'Electricity Net Generation From Wind, All Sectors',\n",
       "        'Million Kilowatthours'],\n",
       "       ['WYETPUS', '200213', '10354.28', '12',\n",
       "        'Electricity Net Generation From Wind, All Sectors',\n",
       "        'Million Kilowatthours'],\n",
       "       ['WYETPUS', '200313', '11187.466', '12',\n",
       "        'Electricity Net Generation From Wind, All Sectors',\n",
       "        'Million Kilowatthours'],\n",
       "       ['WYETPUS', '200413', '14143.741', '12',\n",
       "        'Electricity Net Generation From Wind, All Sectors',\n",
       "        'Million Kilowatthours'],\n",
       "       ['WYETPUS', '200513', '17810.549', '12',\n",
       "        'Electricity Net Generation From Wind, All Sectors',\n",
       "        'Million Kilowatthours'],\n",
       "       ['WYETPUS', '200613', '26589.137', '12',\n",
       "        'Electricity Net Generation From Wind, All Sectors',\n",
       "        'Million Kilowatthours'],\n",
       "       ['WYETPUS', '200713', '34449.927', '12',\n",
       "        'Electricity Net Generation From Wind, All Sectors',\n",
       "        'Million Kilowatthours'],\n",
       "       ['WYETPUS', '200813', '55363.1', '12',\n",
       "        'Electricity Net Generation From Wind, All Sectors',\n",
       "        'Million Kilowatthours'],\n",
       "       ['WYETPUS', '200913', '73886.132', '12',\n",
       "        'Electricity Net Generation From Wind, All Sectors',\n",
       "        'Million Kilowatthours'],\n",
       "       ['WYETPUS', '201013', '94652.246', '12',\n",
       "        'Electricity Net Generation From Wind, All Sectors',\n",
       "        'Million Kilowatthours'],\n",
       "       ['WYETPUS', '201113', '120176.599', '12',\n",
       "        'Electricity Net Generation From Wind, All Sectors',\n",
       "        'Million Kilowatthours'],\n",
       "       ['WYETPUS', '201213', '140821.703', '12',\n",
       "        'Electricity Net Generation From Wind, All Sectors',\n",
       "        'Million Kilowatthours'],\n",
       "       ['WYETPUS', '201313', '167839.745', '12',\n",
       "        'Electricity Net Generation From Wind, All Sectors',\n",
       "        'Million Kilowatthours'],\n",
       "       ['WYETPUS', '201413', '181655.282', '12',\n",
       "        'Electricity Net Generation From Wind, All Sectors',\n",
       "        'Million Kilowatthours'],\n",
       "       ['WYETPUS', '201513', '190718.548', '12',\n",
       "        'Electricity Net Generation From Wind, All Sectors',\n",
       "        'Million Kilowatthours'],\n",
       "       ['WYETPUS', '201613', '226992.562', '12',\n",
       "        'Electricity Net Generation From Wind, All Sectors',\n",
       "        'Million Kilowatthours'],\n",
       "       ['WYETPUS', '201713', '254302.695', '12',\n",
       "        'Electricity Net Generation From Wind, All Sectors',\n",
       "        'Million Kilowatthours'],\n",
       "       ['WYETPUS', '201813', '272667.454', '12',\n",
       "        'Electricity Net Generation From Wind, All Sectors',\n",
       "        'Million Kilowatthours'],\n",
       "       ['WYETPUS', '201913', '295882.484', '12',\n",
       "        'Electricity Net Generation From Wind, All Sectors',\n",
       "        'Million Kilowatthours'],\n",
       "       ['WYETPUS', '202013', '337938.049', '12',\n",
       "        'Electricity Net Generation From Wind, All Sectors',\n",
       "        'Million Kilowatthours'],\n",
       "       ['WYETPUS', '202113', '378196.775', '12',\n",
       "        'Electricity Net Generation From Wind, All Sectors',\n",
       "        'Million Kilowatthours']], dtype='<U80')"
      ]
     },
     "execution_count": 67,
     "metadata": {},
     "output_type": "execute_result"
    }
   ],
   "source": [
    "annual_wind_data"
   ]
  },
  {
   "cell_type": "code",
   "execution_count": 69,
   "id": "3321036e",
   "metadata": {},
   "outputs": [],
   "source": [
    "# Total energy genberated\n",
    "\n",
    "all_energy = annual_wind_data[:,2].astype(float)"
   ]
  },
  {
   "cell_type": "code",
   "execution_count": 70,
   "id": "d058a781",
   "metadata": {},
   "outputs": [
    {
     "data": {
      "text/plain": [
       "2952374.691"
      ]
     },
     "execution_count": 70,
     "metadata": {},
     "output_type": "execute_result"
    }
   ],
   "source": [
    "all_energy.sum()"
   ]
  },
  {
   "cell_type": "code",
   "execution_count": 72,
   "id": "83da6df2",
   "metadata": {},
   "outputs": [
    {
     "name": "stdout",
     "output_type": "stream",
     "text": [
      "The total wind energy generated in USA is 2952374.691 kilowatt per hour\n"
     ]
    }
   ],
   "source": [
    "print(\"The total wind energy generated in USA is {} kilowatt per hour\".format(all_energy.sum()))"
   ]
  },
  {
   "cell_type": "code",
   "execution_count": 74,
   "id": "61bc0c06",
   "metadata": {},
   "outputs": [
    {
     "data": {
      "text/plain": [
       "109069.92321094654"
      ]
     },
     "execution_count": 74,
     "metadata": {},
     "output_type": "execute_result"
    }
   ],
   "source": [
    "all_energy.std()"
   ]
  },
  {
   "cell_type": "code",
   "execution_count": 75,
   "id": "2e8bd929",
   "metadata": {},
   "outputs": [
    {
     "name": "stdout",
     "output_type": "stream",
     "text": [
      "The standard deviation of the wind energy generated is 109069.92321094654 kilowatt per hour\n"
     ]
    }
   ],
   "source": [
    "print(\"The standard deviation of the wind energy generated is {} kilowatt per hour\".format(all_energy.std()))"
   ]
  },
  {
   "cell_type": "code",
   "execution_count": 76,
   "id": "b1f1033c",
   "metadata": {},
   "outputs": [
    {
     "data": {
      "text/plain": [
       "75701.91515384616"
      ]
     },
     "execution_count": 76,
     "metadata": {},
     "output_type": "execute_result"
    }
   ],
   "source": [
    "all_energy.mean()"
   ]
  },
  {
   "cell_type": "code",
   "execution_count": 78,
   "id": "a41fddbe",
   "metadata": {},
   "outputs": [
    {
     "name": "stdout",
     "output_type": "stream",
     "text": [
      "The mean of the wind energy generated is 75701.91515384616 kilowatt per hour\n"
     ]
    }
   ],
   "source": [
    "print(\"The mean of the wind energy generated is {} kilowatt per hour\".format(all_energy.mean()))"
   ]
  },
  {
   "cell_type": "code",
   "execution_count": 81,
   "id": "d1bfa562",
   "metadata": {},
   "outputs": [],
   "source": [
    "y = annual_wind_data[:, 1]\n",
    "x = annual_wind_data[:, 2]"
   ]
  },
  {
   "cell_type": "code",
   "execution_count": 82,
   "id": "97b3c5f0",
   "metadata": {},
   "outputs": [
    {
     "data": {
      "image/png": "[encoded data removed]",
      "text/plain": [
       "<Figure size 432x288 with 1 Axes>"
      ]
     },
     "metadata": {
      "needs_background": "light"
     },
     "output_type": "display_data"
    }
   ],
   "source": [
    "plt.plot(x,y)\n",
    "plt.xlabel(\"Energy generated\")\n",
    "plt.ylabel(\"Date\")\n",
    "plt.show()"
   ]
  },
  {
   "cell_type": "code",
   "execution_count": null,
   "id": "59faa93e",
   "metadata": {},
   "outputs": [],
   "source": []
  }
 ],
 "metadata": {
  "kernelspec": {
   "display_name": "Python 3 (ipykernel)",
   "language": "python",
   "name": "python3"
  },
  "language_info": {
   "codemirror_mode": {
    "name": "ipython",
    "version": 3
   },
   "file_extension": ".py",
   "mimetype": "text/x-python",
   "name": "python",
   "nbconvert_exporter": "python",
   "pygments_lexer": "ipython3",
   "version": "3.9.12"
  }
 },
 "nbformat": 4,
 "nbformat_minor": 5
}
